{
 "cells": [
  {
   "cell_type": "markdown",
   "source": [
    "# Предсказание оценки ученика"
   ],
   "metadata": {
    "collapsed": false
   },
   "id": "f6564f3cf7e6af21"
  },
  {
   "metadata": {
    "ExecuteTime": {
     "end_time": "2024-08-02T16:24:59.161367Z",
     "start_time": "2024-08-02T16:24:59.158081Z"
    }
   },
   "cell_type": "code",
   "source": [
    "import pandas as pd\n",
    "import seaborn as sns"
   ],
   "id": "768801972991bc17",
   "outputs": [],
   "execution_count": 2
  },
  {
   "metadata": {
    "ExecuteTime": {
     "end_time": "2024-08-02T16:24:59.401754Z",
     "start_time": "2024-08-02T16:24:59.398217Z"
    }
   },
   "cell_type": "code",
   "source": "import numpy as np",
   "id": "f6348b51c11d806e",
   "outputs": [],
   "execution_count": 3
  },
  {
   "metadata": {
    "ExecuteTime": {
     "end_time": "2024-08-02T16:24:59.744394Z",
     "start_time": "2024-08-02T16:24:59.435615Z"
    }
   },
   "cell_type": "code",
   "source": [
    "from sklearn.model_selection import train_test_split\n",
    "from category_encoders.target_encoder import TargetEncoder"
   ],
   "id": "ae0f91ccee1a47b8",
   "outputs": [
    {
     "ename": "ModuleNotFoundError",
     "evalue": "No module named 'category_encoders'",
     "output_type": "error",
     "traceback": [
      "\u001B[1;31m---------------------------------------------------------------------------\u001B[0m",
      "\u001B[1;31mModuleNotFoundError\u001B[0m                       Traceback (most recent call last)",
      "Cell \u001B[1;32mIn[4], line 2\u001B[0m\n\u001B[0;32m      1\u001B[0m \u001B[38;5;28;01mfrom\u001B[39;00m \u001B[38;5;21;01msklearn\u001B[39;00m\u001B[38;5;21;01m.\u001B[39;00m\u001B[38;5;21;01mmodel_selection\u001B[39;00m \u001B[38;5;28;01mimport\u001B[39;00m train_test_split\n\u001B[1;32m----> 2\u001B[0m \u001B[38;5;28;01mfrom\u001B[39;00m \u001B[38;5;21;01mcategory_encoders\u001B[39;00m\u001B[38;5;21;01m.\u001B[39;00m\u001B[38;5;21;01mtarget_encoder\u001B[39;00m \u001B[38;5;28;01mimport\u001B[39;00m TargetEncoder\n",
      "\u001B[1;31mModuleNotFoundError\u001B[0m: No module named 'category_encoders'"
     ]
    }
   ],
   "execution_count": 4
  },
  {
   "metadata": {},
   "cell_type": "code",
   "source": [
    "import warnings\n",
    "warnings.filterwarnings('ignore')"
   ],
   "id": "167a1a58902b79a6",
   "outputs": [],
   "execution_count": null
  },
  {
   "metadata": {
    "ExecuteTime": {
     "end_time": "2024-08-02T16:25:09.682207Z",
     "start_time": "2024-08-02T16:25:09.677267Z"
    }
   },
   "cell_type": "code",
   "source": "sns.set(rc={'figure.figsize': (4, 3)})",
   "id": "758beb6d58dcdd90",
   "outputs": [],
   "execution_count": 36
  },
  {
   "cell_type": "code",
   "source": "data = pd.read_csv('student-mat.csv')",
   "metadata": {
    "collapsed": false,
    "ExecuteTime": {
     "end_time": "2024-08-02T16:25:09.868227Z",
     "start_time": "2024-08-02T16:25:09.845182Z"
    }
   },
   "id": "65a1a33752faa2e2",
   "outputs": [],
   "execution_count": 37
  },
  {
   "metadata": {
    "ExecuteTime": {
     "end_time": "2024-08-02T16:25:10.295968Z",
     "start_time": "2024-08-02T16:25:10.035091Z"
    }
   },
   "cell_type": "code",
   "source": "sns.histplot(data['G3'])",
   "id": "392b37bfcf1fd9bc",
   "outputs": [
    {
     "data": {
      "text/plain": [
       "<Axes: xlabel='G3', ylabel='Count'>"
      ]
     },
     "execution_count": 38,
     "metadata": {},
     "output_type": "execute_result"
    },
    {
     "data": {
      "text/plain": [
       "<Figure size 400x300 with 1 Axes>"
      ],
      "image/png": "[encoded data removed]"
     },
     "metadata": {},
     "output_type": "display_data"
    }
   ],
   "execution_count": 38
  },
  {
   "metadata": {
    "ExecuteTime": {
     "end_time": "2024-08-02T16:25:10.311310Z",
     "start_time": "2024-08-02T16:25:10.297932Z"
    }
   },
   "cell_type": "code",
   "source": [
    "data = data[data['G3'] != 0]\n",
    "\n",
    "data_y = data['G3']\n",
    "data_x = data.drop(['G3'], axis=1)"
   ],
   "id": "e8956c0170f46ed2",
   "outputs": [
    {
     "name": "stdout",
     "output_type": "stream",
     "text": [
      "    school gender  age address famsize Pstatus  Medu  Fedu      Mjob  \\\n",
      "0       GP      F   18       U     GT3       A     4     4   at_home   \n",
      "1       GP      F   17       U     GT3       T     1     1   at_home   \n",
      "2       GP      F   15       U     LE3       T     1     1   at_home   \n",
      "3       GP      F   15       U     GT3       T     4     2    health   \n",
      "4       GP      F   16       U     GT3       T     3     3     other   \n",
      "..     ...    ...  ...     ...     ...     ...   ...   ...       ...   \n",
      "390     MS      M   20       U     LE3       A     2     2  services   \n",
      "391     MS      M   17       U     LE3       T     3     1  services   \n",
      "392     MS      M   21       R     GT3       T     1     1     other   \n",
      "393     MS      M   18       R     LE3       T     3     2  services   \n",
      "394     MS      M   19       U     LE3       T     1     1     other   \n",
      "\n",
      "         Fjob  ... higher internet  romantic  famrel  freetime goout health  \\\n",
      "0     teacher  ...    yes       no        no       4         3     4      3   \n",
      "1       other  ...    yes      yes        no       5         3     3      3   \n",
      "2       other  ...    yes      yes        no       4         3     2      3   \n",
      "3    services  ...    yes      yes       yes       3         2     2      5   \n",
      "4       other  ...    yes       no        no       4         3     2      5   \n",
      "..        ...  ...    ...      ...       ...     ...       ...   ...    ...   \n",
      "390  services  ...    yes       no        no       5         5     4      4   \n",
      "391  services  ...    yes      yes        no       2         4     5      2   \n",
      "392     other  ...    yes       no        no       5         5     3      3   \n",
      "393     other  ...    yes      yes        no       4         4     1      5   \n",
      "394   at_home  ...    yes      yes        no       3         2     3      5   \n",
      "\n",
      "    absences  G1  G3  \n",
      "0          6   5   6  \n",
      "1          4   5   6  \n",
      "2         10   7  10  \n",
      "3          2  15  15  \n",
      "4          4   6  10  \n",
      "..       ...  ..  ..  \n",
      "390       11   9   9  \n",
      "391        3  14  16  \n",
      "392        3  10   7  \n",
      "393        0  11  10  \n",
      "394        5   8   9  \n",
      "\n",
      "[357 rows x 30 columns]\n"
     ]
    }
   ],
   "execution_count": 39
  },
  {
   "metadata": {
    "ExecuteTime": {
     "end_time": "2024-08-02T16:25:11.082917Z",
     "start_time": "2024-08-02T16:25:11.076399Z"
    }
   },
   "cell_type": "code",
   "source": "X_train, X_test, y_train, y_test = train_test_split(data_x, data_y, test_size=50)",
   "id": "f6f6f5fdfe48af48",
   "outputs": [],
   "execution_count": 40
  },
  {
   "cell_type": "code",
   "source": "len(X_train)",
   "metadata": {
    "collapsed": false,
    "ExecuteTime": {
     "end_time": "2024-08-02T16:25:11.880356Z",
     "start_time": "2024-08-02T16:25:11.876162Z"
    }
   },
   "id": "4f35ecdb51f47f4e",
   "outputs": [
    {
     "data": {
      "text/plain": [
       "307"
      ]
     },
     "execution_count": 41,
     "metadata": {},
     "output_type": "execute_result"
    }
   ],
   "execution_count": 41
  },
  {
   "metadata": {},
   "cell_type": "code",
   "source": "len(X_test)",
   "id": "bad2ca285b64bc46",
   "outputs": [],
   "execution_count": null
  },
  {
   "metadata": {},
   "cell_type": "code",
   "source": "X_train",
   "id": "e70ee15ba868f5b2",
   "outputs": [],
   "execution_count": null
  },
  {
   "metadata": {},
   "cell_type": "code",
   "source": [
    "X_y_train = X_train.copy(deep=True)\n",
    "X_y_train['y'] = y_train\n",
    "\n",
    "X_y_train.corr(numeric_only=True)   "
   ],
   "id": "686bde40caa2955a",
   "outputs": [],
   "execution_count": null
  },
  {
   "metadata": {
    "ExecuteTime": {
     "end_time": "2024-08-02T16:24:59.785122Z",
     "start_time": "2024-08-02T16:24:59.763619Z"
    }
   },
   "cell_type": "code",
   "source": [
    "corr = X_y_train.corr(numeric_only=True)['y']\n",
    "corr_y = corr[(corr >= 0.1) | (corr <= -0.1)]\n",
    "corr_y"
   ],
   "id": "441b32063d5ad84c",
   "outputs": [
    {
     "ename": "NameError",
     "evalue": "name 'X_y_train' is not defined",
     "output_type": "error",
     "traceback": [
      "\u001B[1;31m---------------------------------------------------------------------------\u001B[0m",
      "\u001B[1;31mNameError\u001B[0m                                 Traceback (most recent call last)",
      "Cell \u001B[1;32mIn[5], line 1\u001B[0m\n\u001B[1;32m----> 1\u001B[0m corr \u001B[38;5;241m=\u001B[39m \u001B[43mX_y_train\u001B[49m\u001B[38;5;241m.\u001B[39mcorr(numeric_only\u001B[38;5;241m=\u001B[39m\u001B[38;5;28;01mTrue\u001B[39;00m)[\u001B[38;5;124m'\u001B[39m\u001B[38;5;124my\u001B[39m\u001B[38;5;124m'\u001B[39m]\n\u001B[0;32m      2\u001B[0m corr_y \u001B[38;5;241m=\u001B[39m corr[(corr \u001B[38;5;241m>\u001B[39m\u001B[38;5;241m=\u001B[39m \u001B[38;5;241m0.1\u001B[39m) \u001B[38;5;241m|\u001B[39m (corr \u001B[38;5;241m<\u001B[39m\u001B[38;5;241m=\u001B[39m \u001B[38;5;241m-\u001B[39m\u001B[38;5;241m0.1\u001B[39m)]\n\u001B[0;32m      3\u001B[0m corr_y\n",
      "\u001B[1;31mNameError\u001B[0m: name 'X_y_train' is not defined"
     ]
    }
   ],
   "execution_count": 5
  },
  {
   "metadata": {},
   "cell_type": "code",
   "source": [
    "sns.histplot(data['G1'])\n",
    "sns.histplot(data['G3'])"
   ],
   "id": "a4558ce1c23ba5bb",
   "outputs": [],
   "execution_count": null
  },
  {
   "metadata": {
    "ExecuteTime": {
     "end_time": "2024-08-02T16:25:00.128694Z",
     "start_time": "2024-08-02T16:25:00.110346Z"
    }
   },
   "cell_type": "code",
   "source": "sns.scatterplot(x=data['G1'], y=data['G3'])",
   "id": "c8bd771b8a3c1f9c",
   "outputs": [
    {
     "ename": "NameError",
     "evalue": "name 'data' is not defined",
     "output_type": "error",
     "traceback": [
      "\u001B[1;31m---------------------------------------------------------------------------\u001B[0m",
      "\u001B[1;31mNameError\u001B[0m                                 Traceback (most recent call last)",
      "Cell \u001B[1;32mIn[6], line 1\u001B[0m\n\u001B[1;32m----> 1\u001B[0m sns\u001B[38;5;241m.\u001B[39mscatterplot(x\u001B[38;5;241m=\u001B[39m\u001B[43mdata\u001B[49m[\u001B[38;5;124m'\u001B[39m\u001B[38;5;124mG1\u001B[39m\u001B[38;5;124m'\u001B[39m], y\u001B[38;5;241m=\u001B[39mdata[\u001B[38;5;124m'\u001B[39m\u001B[38;5;124mG3\u001B[39m\u001B[38;5;124m'\u001B[39m])\n",
      "\u001B[1;31mNameError\u001B[0m: name 'data' is not defined"
     ]
    }
   ],
   "execution_count": 6
  },
  {
   "metadata": {
    "ExecuteTime": {
     "end_time": "2024-08-02T16:25:00.147631Z",
     "start_time": "2024-08-02T16:25:00.134704Z"
    }
   },
   "cell_type": "code",
   "source": "sns.swarmplot(x=data['age'], y=data['G3'], size=4)",
   "id": "a4948ca3ed0d795d",
   "outputs": [
    {
     "ename": "NameError",
     "evalue": "name 'data' is not defined",
     "output_type": "error",
     "traceback": [
      "\u001B[1;31m---------------------------------------------------------------------------\u001B[0m",
      "\u001B[1;31mNameError\u001B[0m                                 Traceback (most recent call last)",
      "Cell \u001B[1;32mIn[7], line 1\u001B[0m\n\u001B[1;32m----> 1\u001B[0m sns\u001B[38;5;241m.\u001B[39mswarmplot(x\u001B[38;5;241m=\u001B[39m\u001B[43mdata\u001B[49m[\u001B[38;5;124m'\u001B[39m\u001B[38;5;124mage\u001B[39m\u001B[38;5;124m'\u001B[39m], y\u001B[38;5;241m=\u001B[39mdata[\u001B[38;5;124m'\u001B[39m\u001B[38;5;124mG3\u001B[39m\u001B[38;5;124m'\u001B[39m], size\u001B[38;5;241m=\u001B[39m\u001B[38;5;241m4\u001B[39m)\n",
      "\u001B[1;31mNameError\u001B[0m: name 'data' is not defined"
     ]
    }
   ],
   "execution_count": 7
  },
  {
   "metadata": {},
   "cell_type": "markdown",
   "source": "## Подготовка факторов",
   "id": "2e124c3e8fb754fd"
  },
  {
   "metadata": {
    "ExecuteTime": {
     "end_time": "2024-08-02T16:25:00.228801Z",
     "start_time": "2024-08-02T16:25:00.224350Z"
    }
   },
   "cell_type": "code",
   "source": [
    "numeric_factors_to_use = ['age', 'traveltime', 'G1', 'studytime', 'Medu', 'Fedu', 'failures']\n",
    "\n",
    "categorical_columns = ['school', 'gender', 'address', 'famsize', 'Pstatus', 'Mjob', 'Fjob',\n",
    "                       'reason', 'guardian', 'schoolsup', 'famsup', 'paid', 'activities', 'nursery',\n",
    "                       'higher', 'internet', 'romantic']"
   ],
   "id": "14e0bb350c962910",
   "outputs": [],
   "execution_count": 8
  },
  {
   "metadata": {
    "ExecuteTime": {
     "end_time": "2024-08-02T16:25:00.305402Z",
     "start_time": "2024-08-02T16:25:00.290231Z"
    }
   },
   "cell_type": "code",
   "source": [
    "X_y_train \\\n",
    "    .groupby('higher', as_index=False) \\\n",
    "    .agg({'y': 'mean'})"
   ],
   "id": "3028f0b935d2f489",
   "outputs": [
    {
     "ename": "NameError",
     "evalue": "name 'X_y_train' is not defined",
     "output_type": "error",
     "traceback": [
      "\u001B[1;31m---------------------------------------------------------------------------\u001B[0m",
      "\u001B[1;31mNameError\u001B[0m                                 Traceback (most recent call last)",
      "Cell \u001B[1;32mIn[9], line 1\u001B[0m\n\u001B[1;32m----> 1\u001B[0m \u001B[43mX_y_train\u001B[49m \\\n\u001B[0;32m      2\u001B[0m     \u001B[38;5;241m.\u001B[39mgroupby(\u001B[38;5;124m'\u001B[39m\u001B[38;5;124mhigher\u001B[39m\u001B[38;5;124m'\u001B[39m, as_index\u001B[38;5;241m=\u001B[39m\u001B[38;5;28;01mFalse\u001B[39;00m) \\\n\u001B[0;32m      3\u001B[0m     \u001B[38;5;241m.\u001B[39magg({\u001B[38;5;124m'\u001B[39m\u001B[38;5;124my\u001B[39m\u001B[38;5;124m'\u001B[39m: \u001B[38;5;124m'\u001B[39m\u001B[38;5;124mmean\u001B[39m\u001B[38;5;124m'\u001B[39m})\n",
      "\u001B[1;31mNameError\u001B[0m: name 'X_y_train' is not defined"
     ]
    }
   ],
   "execution_count": 9
  },
  {
   "metadata": {
    "ExecuteTime": {
     "end_time": "2024-08-02T16:25:00.335942Z",
     "start_time": "2024-08-02T16:25:00.332836Z"
    }
   },
   "cell_type": "code",
   "source": "interesting_categorical_factors = ['Mjob', 'Fjob', 'schoolsup', 'higher']",
   "id": "127d9fd2fed9ce9a",
   "outputs": [],
   "execution_count": 10
  },
  {
   "metadata": {
    "ExecuteTime": {
     "end_time": "2024-08-02T16:25:00.394744Z",
     "start_time": "2024-08-02T16:25:00.379996Z"
    }
   },
   "cell_type": "code",
   "source": [
    "Mjob_target_encoder = TargetEncoder()\n",
    "Mjob_target_encoder.fit(X_y_train['Mjob'], X_y_train['y'])\n",
    "\n",
    "Fjob_target_encoder = TargetEncoder()\n",
    "Fjob_target_encoder.fit(X_y_train['Fjob'], X_y_train['y'])\n",
    "\n",
    "schoolsup_target_encoder = TargetEncoder()\n",
    "schoolsup_target_encoder.fit(X_y_train['schoolsup'], X_y_train['y'])\n",
    "\n",
    "higher_target_encoder = TargetEncoder()\n",
    "higher_target_encoder.fit(X_y_train['higher'], X_y_train['y'])"
   ],
   "id": "31a719fac612c07c",
   "outputs": [
    {
     "ename": "NameError",
     "evalue": "name 'TargetEncoder' is not defined",
     "output_type": "error",
     "traceback": [
      "\u001B[1;31m---------------------------------------------------------------------------\u001B[0m",
      "\u001B[1;31mNameError\u001B[0m                                 Traceback (most recent call last)",
      "Cell \u001B[1;32mIn[11], line 1\u001B[0m\n\u001B[1;32m----> 1\u001B[0m Mjob_target_encoder \u001B[38;5;241m=\u001B[39m \u001B[43mTargetEncoder\u001B[49m()\n\u001B[0;32m      2\u001B[0m Mjob_target_encoder\u001B[38;5;241m.\u001B[39mfit(X_y_train[\u001B[38;5;124m'\u001B[39m\u001B[38;5;124mMjob\u001B[39m\u001B[38;5;124m'\u001B[39m], X_y_train[\u001B[38;5;124m'\u001B[39m\u001B[38;5;124my\u001B[39m\u001B[38;5;124m'\u001B[39m])\n\u001B[0;32m      4\u001B[0m Fjob_target_encoder \u001B[38;5;241m=\u001B[39m TargetEncoder()\n",
      "\u001B[1;31mNameError\u001B[0m: name 'TargetEncoder' is not defined"
     ]
    }
   ],
   "execution_count": 11
  },
  {
   "metadata": {
    "ExecuteTime": {
     "end_time": "2024-08-02T16:25:00.424608Z",
     "start_time": "2024-08-02T16:25:00.411446Z"
    }
   },
   "cell_type": "code",
   "source": [
    "X_y_train['Mjob_encoded'] = Mjob_target_encoder.transform(X_y_train['Mjob'])\n",
    "\n",
    "X_y_train['Fjob_encoded'] = Fjob_target_encoder.transform(X_y_train['Fjob'])\n",
    "\n",
    "X_y_train['schoolsup_encoded'] =schoolsup_target_encoder.transform(X_y_train['schoolsup'])\n",
    "\n",
    "X_y_train['higher_encoded'] = higher_target_encoder.transform(X_y_train['higher'])"
   ],
   "id": "7bceea2671719150",
   "outputs": [
    {
     "ename": "NameError",
     "evalue": "name 'Mjob_target_encoder' is not defined",
     "output_type": "error",
     "traceback": [
      "\u001B[1;31m---------------------------------------------------------------------------\u001B[0m",
      "\u001B[1;31mNameError\u001B[0m                                 Traceback (most recent call last)",
      "Cell \u001B[1;32mIn[12], line 1\u001B[0m\n\u001B[1;32m----> 1\u001B[0m X_y_train[\u001B[38;5;124m'\u001B[39m\u001B[38;5;124mMjob_encoded\u001B[39m\u001B[38;5;124m'\u001B[39m] \u001B[38;5;241m=\u001B[39m \u001B[43mMjob_target_encoder\u001B[49m\u001B[38;5;241m.\u001B[39mtransform(X_y_train[\u001B[38;5;124m'\u001B[39m\u001B[38;5;124mMjob\u001B[39m\u001B[38;5;124m'\u001B[39m])\n\u001B[0;32m      3\u001B[0m X_y_train[\u001B[38;5;124m'\u001B[39m\u001B[38;5;124mFjob_encoded\u001B[39m\u001B[38;5;124m'\u001B[39m] \u001B[38;5;241m=\u001B[39m Fjob_target_encoder\u001B[38;5;241m.\u001B[39mtransform(X_y_train[\u001B[38;5;124m'\u001B[39m\u001B[38;5;124mFjob\u001B[39m\u001B[38;5;124m'\u001B[39m])\n\u001B[0;32m      5\u001B[0m X_y_train[\u001B[38;5;124m'\u001B[39m\u001B[38;5;124mschoolsup_encoded\u001B[39m\u001B[38;5;124m'\u001B[39m] \u001B[38;5;241m=\u001B[39mschoolsup_target_encoder\u001B[38;5;241m.\u001B[39mtransform(X_y_train[\u001B[38;5;124m'\u001B[39m\u001B[38;5;124mschoolsup\u001B[39m\u001B[38;5;124m'\u001B[39m])\n",
      "\u001B[1;31mNameError\u001B[0m: name 'Mjob_target_encoder' is not defined"
     ]
    }
   ],
   "execution_count": 12
  },
  {
   "metadata": {
    "ExecuteTime": {
     "end_time": "2024-08-02T16:25:00.498662Z",
     "start_time": "2024-08-02T16:25:00.482022Z"
    }
   },
   "cell_type": "code",
   "source": "X_y_train",
   "id": "d4f2d1f5a87488a",
   "outputs": [
    {
     "ename": "NameError",
     "evalue": "name 'X_y_train' is not defined",
     "output_type": "error",
     "traceback": [
      "\u001B[1;31m---------------------------------------------------------------------------\u001B[0m",
      "\u001B[1;31mNameError\u001B[0m                                 Traceback (most recent call last)",
      "Cell \u001B[1;32mIn[13], line 1\u001B[0m\n\u001B[1;32m----> 1\u001B[0m \u001B[43mX_y_train\u001B[49m\n",
      "\u001B[1;31mNameError\u001B[0m: name 'X_y_train' is not defined"
     ]
    }
   ],
   "execution_count": 13
  },
  {
   "metadata": {
    "ExecuteTime": {
     "end_time": "2024-08-02T16:25:00.538161Z",
     "start_time": "2024-08-02T16:25:00.535030Z"
    }
   },
   "cell_type": "code",
   "source": [
    "encoded_factors = ['Mjob_encoded', 'Fjob_encoded', 'schoolsup_encoded', 'higher_encoded']\n",
    "needed_factors = numeric_factors_to_use + encoded_factors"
   ],
   "id": "586e20ee95145b78",
   "outputs": [],
   "execution_count": 14
  },
  {
   "metadata": {
    "ExecuteTime": {
     "end_time": "2024-08-02T16:25:00.658529Z",
     "start_time": "2024-08-02T16:25:00.643317Z"
    }
   },
   "cell_type": "code",
   "source": "X_train_encoded = X_y_train.copy(deep=True)",
   "id": "8d74793db916b117",
   "outputs": [
    {
     "ename": "NameError",
     "evalue": "name 'X_y_train' is not defined",
     "output_type": "error",
     "traceback": [
      "\u001B[1;31m---------------------------------------------------------------------------\u001B[0m",
      "\u001B[1;31mNameError\u001B[0m                                 Traceback (most recent call last)",
      "Cell \u001B[1;32mIn[15], line 1\u001B[0m\n\u001B[1;32m----> 1\u001B[0m X_train_encoded \u001B[38;5;241m=\u001B[39m \u001B[43mX_y_train\u001B[49m\u001B[38;5;241m.\u001B[39mcopy(deep\u001B[38;5;241m=\u001B[39m\u001B[38;5;28;01mTrue\u001B[39;00m)\n",
      "\u001B[1;31mNameError\u001B[0m: name 'X_y_train' is not defined"
     ]
    }
   ],
   "execution_count": 15
  },
  {
   "metadata": {
    "ExecuteTime": {
     "end_time": "2024-08-02T16:25:00.692937Z",
     "start_time": "2024-08-02T16:25:00.678884Z"
    }
   },
   "cell_type": "code",
   "source": "X_train_encoded = X_train_encoded[needed_factors]",
   "id": "2e9adb6a5ba9ae45",
   "outputs": [
    {
     "ename": "NameError",
     "evalue": "name 'X_train_encoded' is not defined",
     "output_type": "error",
     "traceback": [
      "\u001B[1;31m---------------------------------------------------------------------------\u001B[0m",
      "\u001B[1;31mNameError\u001B[0m                                 Traceback (most recent call last)",
      "Cell \u001B[1;32mIn[16], line 1\u001B[0m\n\u001B[1;32m----> 1\u001B[0m X_train_encoded \u001B[38;5;241m=\u001B[39m \u001B[43mX_train_encoded\u001B[49m[needed_factors]\n",
      "\u001B[1;31mNameError\u001B[0m: name 'X_train_encoded' is not defined"
     ]
    }
   ],
   "execution_count": 16
  },
  {
   "metadata": {
    "ExecuteTime": {
     "end_time": "2024-08-02T16:25:00.753982Z",
     "start_time": "2024-08-02T16:25:00.751158Z"
    }
   },
   "cell_type": "code",
   "source": "from sklearn.preprocessing import MinMaxScaler",
   "id": "2a4558495995a817",
   "outputs": [],
   "execution_count": 17
  },
  {
   "metadata": {
    "ExecuteTime": {
     "end_time": "2024-08-02T16:25:00.796078Z",
     "start_time": "2024-08-02T16:25:00.780391Z"
    }
   },
   "cell_type": "code",
   "source": [
    "scaler = MinMaxScaler()\n",
    "\n",
    "scaler.fit(X_train_encoded)\n",
    "\n",
    "X_train_scaled = scaler.transform(X_train_encoded)"
   ],
   "id": "4b25a893953cccc1",
   "outputs": [
    {
     "ename": "NameError",
     "evalue": "name 'X_train_encoded' is not defined",
     "output_type": "error",
     "traceback": [
      "\u001B[1;31m---------------------------------------------------------------------------\u001B[0m",
      "\u001B[1;31mNameError\u001B[0m                                 Traceback (most recent call last)",
      "Cell \u001B[1;32mIn[18], line 3\u001B[0m\n\u001B[0;32m      1\u001B[0m scaler \u001B[38;5;241m=\u001B[39m MinMaxScaler()\n\u001B[1;32m----> 3\u001B[0m scaler\u001B[38;5;241m.\u001B[39mfit(\u001B[43mX_train_encoded\u001B[49m)\n\u001B[0;32m      5\u001B[0m X_train_scaled \u001B[38;5;241m=\u001B[39m scaler\u001B[38;5;241m.\u001B[39mtransform(X_train_encoded)\n",
      "\u001B[1;31mNameError\u001B[0m: name 'X_train_encoded' is not defined"
     ]
    }
   ],
   "execution_count": 18
  },
  {
   "metadata": {
    "ExecuteTime": {
     "end_time": "2024-08-02T16:25:00.833902Z",
     "start_time": "2024-08-02T16:25:00.813098Z"
    }
   },
   "cell_type": "code",
   "source": "X_train_scaled",
   "id": "7d330565b1f68546",
   "outputs": [
    {
     "ename": "NameError",
     "evalue": "name 'X_train_scaled' is not defined",
     "output_type": "error",
     "traceback": [
      "\u001B[1;31m---------------------------------------------------------------------------\u001B[0m",
      "\u001B[1;31mNameError\u001B[0m                                 Traceback (most recent call last)",
      "Cell \u001B[1;32mIn[19], line 1\u001B[0m\n\u001B[1;32m----> 1\u001B[0m \u001B[43mX_train_scaled\u001B[49m\n",
      "\u001B[1;31mNameError\u001B[0m: name 'X_train_scaled' is not defined"
     ]
    }
   ],
   "execution_count": 19
  },
  {
   "metadata": {},
   "cell_type": "markdown",
   "source": "X_train_encoded",
   "id": "bd4a9f8fdc5b75e0"
  },
  {
   "metadata": {},
   "cell_type": "markdown",
   "source": "## Создание модели",
   "id": "7bacfeccda2ce2cf"
  },
  {
   "metadata": {
    "ExecuteTime": {
     "end_time": "2024-08-02T16:25:00.994384Z",
     "start_time": "2024-08-02T16:25:00.897523Z"
    }
   },
   "cell_type": "code",
   "source": [
    "from sklearn.linear_model import LinearRegression\n",
    "\n",
    "model = LinearRegression()"
   ],
   "id": "e217fb707ccb5d69",
   "outputs": [],
   "execution_count": 20
  },
  {
   "metadata": {
    "ExecuteTime": {
     "end_time": "2024-08-02T16:25:01.020002Z",
     "start_time": "2024-08-02T16:25:00.995380Z"
    }
   },
   "cell_type": "code",
   "source": [
    "model.fit(X_train_scaled, y_train)\n",
    "print(model.score(X_train_scaled, y_train))"
   ],
   "id": "d8f9e945da96409",
   "outputs": [
    {
     "ename": "NameError",
     "evalue": "name 'X_train_scaled' is not defined",
     "output_type": "error",
     "traceback": [
      "\u001B[1;31m---------------------------------------------------------------------------\u001B[0m",
      "\u001B[1;31mNameError\u001B[0m                                 Traceback (most recent call last)",
      "Cell \u001B[1;32mIn[21], line 1\u001B[0m\n\u001B[1;32m----> 1\u001B[0m model\u001B[38;5;241m.\u001B[39mfit(\u001B[43mX_train_scaled\u001B[49m, y_train)\n\u001B[0;32m      2\u001B[0m \u001B[38;5;28mprint\u001B[39m(model\u001B[38;5;241m.\u001B[39mscore(X_train_scaled, y_train))\n",
      "\u001B[1;31mNameError\u001B[0m: name 'X_train_scaled' is not defined"
     ]
    }
   ],
   "execution_count": 21
  },
  {
   "metadata": {},
   "cell_type": "markdown",
   "source": "## Тест модели",
   "id": "24fb24c2cad3f384"
  },
  {
   "metadata": {
    "ExecuteTime": {
     "end_time": "2024-08-02T16:25:01.045690Z",
     "start_time": "2024-08-02T16:25:01.024374Z"
    }
   },
   "cell_type": "code",
   "source": [
    "X_y_test = X_test.copy(deep=True)\n",
    "X_y_test['y'] = y_test"
   ],
   "id": "2505848e0ba8491a",
   "outputs": [
    {
     "ename": "NameError",
     "evalue": "name 'X_test' is not defined",
     "output_type": "error",
     "traceback": [
      "\u001B[1;31m---------------------------------------------------------------------------\u001B[0m",
      "\u001B[1;31mNameError\u001B[0m                                 Traceback (most recent call last)",
      "Cell \u001B[1;32mIn[22], line 1\u001B[0m\n\u001B[1;32m----> 1\u001B[0m X_y_test \u001B[38;5;241m=\u001B[39m \u001B[43mX_test\u001B[49m\u001B[38;5;241m.\u001B[39mcopy(deep\u001B[38;5;241m=\u001B[39m\u001B[38;5;28;01mTrue\u001B[39;00m)\n\u001B[0;32m      2\u001B[0m X_y_test[\u001B[38;5;124m'\u001B[39m\u001B[38;5;124my\u001B[39m\u001B[38;5;124m'\u001B[39m] \u001B[38;5;241m=\u001B[39m y_test\n",
      "\u001B[1;31mNameError\u001B[0m: name 'X_test' is not defined"
     ]
    }
   ],
   "execution_count": 22
  },
  {
   "metadata": {
    "ExecuteTime": {
     "end_time": "2024-08-02T16:25:01.136979Z",
     "start_time": "2024-08-02T16:25:01.122030Z"
    }
   },
   "cell_type": "code",
   "source": "X_y_test",
   "id": "76e700a174ce6c9c",
   "outputs": [
    {
     "ename": "NameError",
     "evalue": "name 'X_y_test' is not defined",
     "output_type": "error",
     "traceback": [
      "\u001B[1;31m---------------------------------------------------------------------------\u001B[0m",
      "\u001B[1;31mNameError\u001B[0m                                 Traceback (most recent call last)",
      "Cell \u001B[1;32mIn[23], line 1\u001B[0m\n\u001B[1;32m----> 1\u001B[0m \u001B[43mX_y_test\u001B[49m\n",
      "\u001B[1;31mNameError\u001B[0m: name 'X_y_test' is not defined"
     ]
    }
   ],
   "execution_count": 23
  },
  {
   "metadata": {
    "ExecuteTime": {
     "end_time": "2024-08-02T16:25:01.181218Z",
     "start_time": "2024-08-02T16:25:01.163310Z"
    }
   },
   "cell_type": "code",
   "source": [
    "Mjob_target_encoder = TargetEncoder()\n",
    "Mjob_target_encoder.fit(X_y_test['Mjob'], X_y_test['y'])\n",
    "\n",
    "Fjob_target_encoder = TargetEncoder()\n",
    "Fjob_target_encoder.fit(X_y_test['Fjob'], X_y_test['y'])\n",
    "\n",
    "schoolsup_target_encoder = TargetEncoder()\n",
    "schoolsup_target_encoder.fit(X_y_test['schoolsup'], X_y_test['y'])\n",
    "\n",
    "higher_target_encoder = TargetEncoder()\n",
    "higher_target_encoder.fit(X_y_test['higher'], X_y_test['y'])"
   ],
   "id": "4518a890d35b768f",
   "outputs": [
    {
     "ename": "NameError",
     "evalue": "name 'TargetEncoder' is not defined",
     "output_type": "error",
     "traceback": [
      "\u001B[1;31m---------------------------------------------------------------------------\u001B[0m",
      "\u001B[1;31mNameError\u001B[0m                                 Traceback (most recent call last)",
      "Cell \u001B[1;32mIn[24], line 1\u001B[0m\n\u001B[1;32m----> 1\u001B[0m Mjob_target_encoder \u001B[38;5;241m=\u001B[39m \u001B[43mTargetEncoder\u001B[49m()\n\u001B[0;32m      2\u001B[0m Mjob_target_encoder\u001B[38;5;241m.\u001B[39mfit(X_y_test[\u001B[38;5;124m'\u001B[39m\u001B[38;5;124mMjob\u001B[39m\u001B[38;5;124m'\u001B[39m], X_y_test[\u001B[38;5;124m'\u001B[39m\u001B[38;5;124my\u001B[39m\u001B[38;5;124m'\u001B[39m])\n\u001B[0;32m      4\u001B[0m Fjob_target_encoder \u001B[38;5;241m=\u001B[39m TargetEncoder()\n",
      "\u001B[1;31mNameError\u001B[0m: name 'TargetEncoder' is not defined"
     ]
    }
   ],
   "execution_count": 24
  },
  {
   "metadata": {
    "ExecuteTime": {
     "end_time": "2024-08-02T16:25:01.271835Z",
     "start_time": "2024-08-02T16:25:01.255207Z"
    }
   },
   "cell_type": "code",
   "source": [
    "X_y_test['Mjob_encoded'] = Mjob_target_encoder.transform(X_y_test['Mjob'])\n",
    "\n",
    "X_y_test['Fjob_encoded'] = Fjob_target_encoder.transform(X_y_test['Fjob'])\n",
    "\n",
    "X_y_test['schoolsup_encoded'] =schoolsup_target_encoder.transform(X_y_test['schoolsup'])\n",
    "\n",
    "X_y_test['higher_encoded'] = higher_target_encoder.transform(X_y_test['higher'])"
   ],
   "id": "cdb6daebf43d0d36",
   "outputs": [
    {
     "ename": "NameError",
     "evalue": "name 'Mjob_target_encoder' is not defined",
     "output_type": "error",
     "traceback": [
      "\u001B[1;31m---------------------------------------------------------------------------\u001B[0m",
      "\u001B[1;31mNameError\u001B[0m                                 Traceback (most recent call last)",
      "Cell \u001B[1;32mIn[25], line 1\u001B[0m\n\u001B[1;32m----> 1\u001B[0m X_y_test[\u001B[38;5;124m'\u001B[39m\u001B[38;5;124mMjob_encoded\u001B[39m\u001B[38;5;124m'\u001B[39m] \u001B[38;5;241m=\u001B[39m \u001B[43mMjob_target_encoder\u001B[49m\u001B[38;5;241m.\u001B[39mtransform(X_y_test[\u001B[38;5;124m'\u001B[39m\u001B[38;5;124mMjob\u001B[39m\u001B[38;5;124m'\u001B[39m])\n\u001B[0;32m      3\u001B[0m X_y_test[\u001B[38;5;124m'\u001B[39m\u001B[38;5;124mFjob_encoded\u001B[39m\u001B[38;5;124m'\u001B[39m] \u001B[38;5;241m=\u001B[39m Fjob_target_encoder\u001B[38;5;241m.\u001B[39mtransform(X_y_test[\u001B[38;5;124m'\u001B[39m\u001B[38;5;124mFjob\u001B[39m\u001B[38;5;124m'\u001B[39m])\n\u001B[0;32m      5\u001B[0m X_y_test[\u001B[38;5;124m'\u001B[39m\u001B[38;5;124mschoolsup_encoded\u001B[39m\u001B[38;5;124m'\u001B[39m] \u001B[38;5;241m=\u001B[39mschoolsup_target_encoder\u001B[38;5;241m.\u001B[39mtransform(X_y_test[\u001B[38;5;124m'\u001B[39m\u001B[38;5;124mschoolsup\u001B[39m\u001B[38;5;124m'\u001B[39m])\n",
      "\u001B[1;31mNameError\u001B[0m: name 'Mjob_target_encoder' is not defined"
     ]
    }
   ],
   "execution_count": 25
  },
  {
   "metadata": {
    "ExecuteTime": {
     "end_time": "2024-08-02T16:25:01.334781Z",
     "start_time": "2024-08-02T16:25:01.317960Z"
    }
   },
   "cell_type": "code",
   "source": "X_y_test",
   "id": "bad63057cdaf1ba0",
   "outputs": [
    {
     "ename": "NameError",
     "evalue": "name 'X_y_test' is not defined",
     "output_type": "error",
     "traceback": [
      "\u001B[1;31m---------------------------------------------------------------------------\u001B[0m",
      "\u001B[1;31mNameError\u001B[0m                                 Traceback (most recent call last)",
      "Cell \u001B[1;32mIn[26], line 1\u001B[0m\n\u001B[1;32m----> 1\u001B[0m \u001B[43mX_y_test\u001B[49m\n",
      "\u001B[1;31mNameError\u001B[0m: name 'X_y_test' is not defined"
     ]
    }
   ],
   "execution_count": 26
  },
  {
   "metadata": {
    "ExecuteTime": {
     "end_time": "2024-08-02T16:25:01.465088Z",
     "start_time": "2024-08-02T16:25:01.362238Z"
    }
   },
   "cell_type": "code",
   "source": [
    "X_test_encoded = X_y_test.copy(deep=True)\n",
    "X_test_encoded = X_test_encoded[needed_factors]"
   ],
   "id": "314a346421470885",
   "outputs": [
    {
     "ename": "NameError",
     "evalue": "name 'X_y_test' is not defined",
     "output_type": "error",
     "traceback": [
      "\u001B[1;31m---------------------------------------------------------------------------\u001B[0m",
      "\u001B[1;31mNameError\u001B[0m                                 Traceback (most recent call last)",
      "Cell \u001B[1;32mIn[27], line 1\u001B[0m\n\u001B[1;32m----> 1\u001B[0m X_test_encoded \u001B[38;5;241m=\u001B[39m \u001B[43mX_y_test\u001B[49m\u001B[38;5;241m.\u001B[39mcopy(deep\u001B[38;5;241m=\u001B[39m\u001B[38;5;28;01mTrue\u001B[39;00m)\n\u001B[0;32m      2\u001B[0m X_test_encoded \u001B[38;5;241m=\u001B[39m X_test_encoded[needed_factors]\n",
      "\u001B[1;31mNameError\u001B[0m: name 'X_y_test' is not defined"
     ]
    }
   ],
   "execution_count": 27
  },
  {
   "metadata": {},
   "cell_type": "code",
   "source": "X_test_encoded",
   "id": "8109b0af2b04dd01",
   "outputs": [],
   "execution_count": null
  },
  {
   "metadata": {
    "ExecuteTime": {
     "end_time": "2024-08-02T16:25:01.507165Z",
     "start_time": "2024-08-02T16:25:01.489339Z"
    }
   },
   "cell_type": "code",
   "source": [
    "scaler = MinMaxScaler()\n",
    "\n",
    "scaler.fit(X_test_encoded)\n",
    "\n",
    "X_test_scaled = scaler.transform(X_test_encoded)"
   ],
   "id": "33f228cf65cd5679",
   "outputs": [
    {
     "ename": "NameError",
     "evalue": "name 'X_test_encoded' is not defined",
     "output_type": "error",
     "traceback": [
      "\u001B[1;31m---------------------------------------------------------------------------\u001B[0m",
      "\u001B[1;31mNameError\u001B[0m                                 Traceback (most recent call last)",
      "Cell \u001B[1;32mIn[28], line 3\u001B[0m\n\u001B[0;32m      1\u001B[0m scaler \u001B[38;5;241m=\u001B[39m MinMaxScaler()\n\u001B[1;32m----> 3\u001B[0m scaler\u001B[38;5;241m.\u001B[39mfit(\u001B[43mX_test_encoded\u001B[49m)\n\u001B[0;32m      5\u001B[0m X_test_scaled \u001B[38;5;241m=\u001B[39m scaler\u001B[38;5;241m.\u001B[39mtransform(X_test_encoded)\n",
      "\u001B[1;31mNameError\u001B[0m: name 'X_test_encoded' is not defined"
     ]
    }
   ],
   "execution_count": 28
  },
  {
   "metadata": {
    "ExecuteTime": {
     "end_time": "2024-08-02T16:25:01.566707Z",
     "start_time": "2024-08-02T16:25:01.551074Z"
    }
   },
   "cell_type": "code",
   "source": "X_test_scaled",
   "id": "e0e3a4f2671e1e9f",
   "outputs": [
    {
     "ename": "NameError",
     "evalue": "name 'X_test_scaled' is not defined",
     "output_type": "error",
     "traceback": [
      "\u001B[1;31m---------------------------------------------------------------------------\u001B[0m",
      "\u001B[1;31mNameError\u001B[0m                                 Traceback (most recent call last)",
      "Cell \u001B[1;32mIn[29], line 1\u001B[0m\n\u001B[1;32m----> 1\u001B[0m \u001B[43mX_test_scaled\u001B[49m\n",
      "\u001B[1;31mNameError\u001B[0m: name 'X_test_scaled' is not defined"
     ]
    }
   ],
   "execution_count": 29
  },
  {
   "metadata": {
    "ExecuteTime": {
     "end_time": "2024-08-02T16:25:01.596263Z",
     "start_time": "2024-08-02T16:25:01.581425Z"
    }
   },
   "cell_type": "code",
   "source": [
    "print(model.score(X_test_scaled, y_test))\n",
    "\n",
    "\n",
    "predictions = model.predict(X_test_scaled)"
   ],
   "id": "c84bc002b96da7b5",
   "outputs": [
    {
     "ename": "NameError",
     "evalue": "name 'X_test_scaled' is not defined",
     "output_type": "error",
     "traceback": [
      "\u001B[1;31m---------------------------------------------------------------------------\u001B[0m",
      "\u001B[1;31mNameError\u001B[0m                                 Traceback (most recent call last)",
      "Cell \u001B[1;32mIn[30], line 1\u001B[0m\n\u001B[1;32m----> 1\u001B[0m \u001B[38;5;28mprint\u001B[39m(model\u001B[38;5;241m.\u001B[39mscore(\u001B[43mX_test_scaled\u001B[49m, y_test))\n\u001B[0;32m      4\u001B[0m predictions \u001B[38;5;241m=\u001B[39m model\u001B[38;5;241m.\u001B[39mpredict(X_test_scaled)\n",
      "\u001B[1;31mNameError\u001B[0m: name 'X_test_scaled' is not defined"
     ]
    }
   ],
   "execution_count": 30
  },
  {
   "metadata": {},
   "cell_type": "markdown",
   "source": "## Оценка качества\n",
   "id": "2066e65a047feafb"
  },
  {
   "metadata": {
    "ExecuteTime": {
     "end_time": "2024-08-02T16:25:01.676847Z",
     "start_time": "2024-08-02T16:25:01.673663Z"
    }
   },
   "cell_type": "code",
   "source": [
    "import random\n",
    "from math import floor"
   ],
   "id": "5cb81d1e9dda366e",
   "outputs": [],
   "execution_count": 31
  },
  {
   "metadata": {
    "ExecuteTime": {
     "end_time": "2024-08-02T16:25:01.713700Z",
     "start_time": "2024-08-02T16:25:01.710393Z"
    }
   },
   "cell_type": "code",
   "source": [
    "def cut_on_edges(l, fraction_to_cut):\n",
    "    to_cut = floor(len(l) * fraction_to_cut)\n",
    "    return l[to_cut:len(l) - to_cut]"
   ],
   "id": "6f9263336b7586d5",
   "outputs": [],
   "execution_count": 32
  },
  {
   "metadata": {
    "ExecuteTime": {
     "end_time": "2024-08-02T16:25:01.770779Z",
     "start_time": "2024-08-02T16:25:01.765071Z"
    }
   },
   "cell_type": "code",
   "source": [
    "def bootstrap_confidence_interval_solution(y, y_pred, fraction_to_cut):\n",
    "    bs_y_and_y_pred = list(zip(y, y_pred))\n",
    "    bs_interval = []\n",
    "    \n",
    "    for n in range(10_000):\n",
    "        bs_sample = random.choices(bs_y_and_y_pred, k=len(y))\n",
    "        bs_sum = 0\n",
    "        for t_y, t_y_pred in bs_sample:\n",
    "            bs_sum += abs(t_y - t_y_pred)\n",
    "            \n",
    "        bs_sum /= len(y)\n",
    "        bs_interval.append(bs_sum)\n",
    "    \n",
    "    bs_interval.sort()\n",
    "    bs_interval = cut_on_edges(bs_interval, fraction_to_cut)\n",
    "    return round(bs_interval[0], 3), round(bs_interval[-1], 3)"
   ],
   "id": "853406740ef35236",
   "outputs": [],
   "execution_count": 33
  },
  {
   "metadata": {
    "ExecuteTime": {
     "end_time": "2024-08-02T16:25:01.814424Z",
     "start_time": "2024-08-02T16:25:01.796437Z"
    }
   },
   "cell_type": "code",
   "source": "interval = bootstrap_confidence_interval_solution(y_test, predictions, 0.025)",
   "id": "f21e6d8e2de3c7e6",
   "outputs": [
    {
     "ename": "NameError",
     "evalue": "name 'y_test' is not defined",
     "output_type": "error",
     "traceback": [
      "\u001B[1;31m---------------------------------------------------------------------------\u001B[0m",
      "\u001B[1;31mNameError\u001B[0m                                 Traceback (most recent call last)",
      "Cell \u001B[1;32mIn[34], line 1\u001B[0m\n\u001B[1;32m----> 1\u001B[0m interval \u001B[38;5;241m=\u001B[39m bootstrap_confidence_interval_solution(\u001B[43my_test\u001B[49m, predictions, \u001B[38;5;241m0.025\u001B[39m)\n",
      "\u001B[1;31mNameError\u001B[0m: name 'y_test' is not defined"
     ]
    }
   ],
   "execution_count": 34
  },
  {
   "metadata": {
    "ExecuteTime": {
     "end_time": "2024-08-02T16:25:01.846233Z",
     "start_time": "2024-08-02T16:25:01.828863Z"
    }
   },
   "cell_type": "code",
   "source": "float(interval[0]), float(interval[1])",
   "id": "c103e4bfd5887919",
   "outputs": [
    {
     "ename": "NameError",
     "evalue": "name 'interval' is not defined",
     "output_type": "error",
     "traceback": [
      "\u001B[1;31m---------------------------------------------------------------------------\u001B[0m",
      "\u001B[1;31mNameError\u001B[0m                                 Traceback (most recent call last)",
      "Cell \u001B[1;32mIn[35], line 1\u001B[0m\n\u001B[1;32m----> 1\u001B[0m \u001B[38;5;28mfloat\u001B[39m(\u001B[43minterval\u001B[49m[\u001B[38;5;241m0\u001B[39m]), \u001B[38;5;28mfloat\u001B[39m(interval[\u001B[38;5;241m1\u001B[39m])\n",
      "\u001B[1;31mNameError\u001B[0m: name 'interval' is not defined"
     ]
    }
   ],
   "execution_count": 35
  },
  {
   "metadata": {
    "ExecuteTime": {
     "end_time": "2024-08-02T16:25:01.884345Z",
     "start_time": "2024-08-02T16:25:01.881411Z"
    }
   },
   "cell_type": "code",
   "source": "",
   "id": "f7aa70dac6999829",
   "outputs": [],
   "execution_count": 35
  }
 ],
 "metadata": {
  "kernelspec": {
   "display_name": "Python 3",
   "language": "python",
   "name": "python3"
  },
  "language_info": {
   "codemirror_mode": {
    "name": "ipython",
    "version": 2
   },
   "file_extension": ".py",
   "mimetype": "text/x-python",
   "name": "python",
   "nbconvert_exporter": "python",
   "pygments_lexer": "ipython2",
   "version": "2.7.6"
  }
 },
 "nbformat": 4,
 "nbformat_minor": 5
}
